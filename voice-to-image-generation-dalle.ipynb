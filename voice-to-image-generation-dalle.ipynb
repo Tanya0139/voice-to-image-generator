{
 "cells": [
  {
   "cell_type": "markdown",
   "id": "d7413d2b",
   "metadata": {},
   "source": [
    "# Import libraries"
   ]
  },
  {
   "cell_type": "code",
   "execution_count": 1,
   "id": "e9fe9b8d",
   "metadata": {},
   "outputs": [],
   "source": [
    "import gradio as gr\n",
    "import openai\n",
    "import os\n",
    "import warnings\n",
    "warnings.filterwarnings(\"ignore\")"
   ]
  },
  {
   "cell_type": "code",
   "execution_count": 2,
   "id": "4978a2be",
   "metadata": {},
   "outputs": [],
   "source": [
    "#Add the access key generated from your OpenAI account\n",
    "\n",
    "openai.api_key = \"\""
   ]
  },
  {
   "cell_type": "markdown",
   "id": "545ae232",
   "metadata": {},
   "source": [
    "# Create ChatGPT Dalle prompt"
   ]
  },
  {
   "cell_type": "code",
   "execution_count": 3,
   "id": "ec2c1977",
   "metadata": {},
   "outputs": [],
   "source": [
    "def chatgpt_api(input_text):\n",
    "    messages = [\n",
    "    {\"role\": \"system\", \"content\": \"You are a helpful assistant.\"}]\n",
    "    \n",
    "    if input_text:\n",
    "        messages.append(\n",
    "            {\"role\": \"user\", \"content\": 'Summarize this text \"{}\" into a short and concise Dall-e2 prompt'.format(input_text)},\n",
    "        )\n",
    "        \n",
    "        chat_completion = openai.ChatCompletion.create(\n",
    "            model=\"gpt-3.5-turbo\", messages=messages\n",
    "        )\n",
    "    \n",
    "    reply = chat_completion.choices[0].message.content\n",
    "    return reply"
   ]
  },
  {
   "cell_type": "markdown",
   "id": "36bdf302",
   "metadata": {},
   "source": [
    "# Dalle 2 Image generation"
   ]
  },
  {
   "cell_type": "code",
   "execution_count": 4,
   "id": "7320f996",
   "metadata": {},
   "outputs": [],
   "source": [
    "def dall_e_api(dalle_prompt):\n",
    "    dalle_response = openai.Image.create(\n",
    "            prompt = dalle_prompt,\n",
    "            size=\"512x512\"\n",
    "        )\n",
    "    image_url = dalle_response['data'][0]['url']\n",
    "    return image_url"
   ]
  },
  {
   "cell_type": "markdown",
   "id": "609025e3",
   "metadata": {},
   "source": [
    "# Speech to text transcription Function"
   ]
  },
  {
   "cell_type": "code",
   "execution_count": 5,
   "id": "dbe23ba1",
   "metadata": {},
   "outputs": [],
   "source": [
    "def whisper_transcribe(audio):\n",
    "    os.rename(audio, audio + '.wav')\n",
    "    audio_file = open(audio + '.wav', \"rb\")\n",
    "    transcript = openai.Audio.transcribe(\"whisper-1\", audio_file)\n",
    "    dalle_prompt = chatgpt_api(transcript[\"text\"])\n",
    "    image_url = dall_e_api(dalle_prompt)\n",
    "    return transcript[\"text\"], image_url"
   ]
  },
  {
   "cell_type": "markdown",
   "id": "8a9a7b22",
   "metadata": {},
   "source": [
    "# Gradio Interface"
   ]
  },
  {
   "cell_type": "code",
   "execution_count": 6,
   "id": "6ce46c17",
   "metadata": {},
   "outputs": [],
   "source": [
    "output_1 = gr.Textbox(label=\"Speech to Text\")\n",
    "output_2 = gr.Image(label=\"DALL-E Image\")\n",
    "     "
   ]
  },
  {
   "cell_type": "code",
   "execution_count": null,
   "id": "7222c582",
   "metadata": {},
   "outputs": [
    {
     "name": "stdout",
     "output_type": "stream",
     "text": [
      "Running on local URL:  http://127.0.0.1:7860\n",
      "\n",
      "To create a public link, set `share=True` in `launch()`.\n"
     ]
    },
    {
     "data": {
      "text/html": [
       "<div><iframe src=\"http://127.0.0.1:7860/\" width=\"100%\" height=\"500\" allow=\"autoplay; camera; microphone; clipboard-read; clipboard-write;\" frameborder=\"0\" allowfullscreen></iframe></div>"
      ],
      "text/plain": [
       "<IPython.core.display.HTML object>"
      ]
     },
     "metadata": {},
     "output_type": "display_data"
    },
    {
     "name": "stderr",
     "output_type": "stream",
     "text": [
      "Traceback (most recent call last):\n",
      "  File \"/Users/admin/opt/anaconda3/lib/python3.9/site-packages/gradio/routes.py\", line 437, in run_predict\n",
      "    output = await app.get_blocks().process_api(\n",
      "  File \"/Users/admin/opt/anaconda3/lib/python3.9/site-packages/gradio/blocks.py\", line 1346, in process_api\n",
      "    result = await self.call_function(\n",
      "  File \"/Users/admin/opt/anaconda3/lib/python3.9/site-packages/gradio/blocks.py\", line 1074, in call_function\n",
      "    prediction = await anyio.to_thread.run_sync(\n",
      "  File \"/Users/admin/opt/anaconda3/lib/python3.9/site-packages/anyio/to_thread.py\", line 28, in run_sync\n",
      "    return await get_asynclib().run_sync_in_worker_thread(func, *args, cancellable=cancellable,\n",
      "  File \"/Users/admin/opt/anaconda3/lib/python3.9/site-packages/anyio/_backends/_asyncio.py\", line 818, in run_sync_in_worker_thread\n",
      "    return await future\n",
      "  File \"/Users/admin/opt/anaconda3/lib/python3.9/site-packages/anyio/_backends/_asyncio.py\", line 754, in run\n",
      "    result = context.run(func, *args)\n",
      "  File \"/var/folders/6w/3kk8ltnj3fn4ppj_6_d3lfh00000gp/T/ipykernel_55803/3727433843.py\", line 2, in whisper_transcribe\n",
      "    os.rename(audio, audio + '.wav')\n",
      "TypeError: unsupported operand type(s) for +: 'NoneType' and 'str'\n"
     ]
    }
   ],
   "source": [
    "speech_interface = gr.Interface(fn = whisper_transcribe, \n",
    "                                inputs = gr.Audio(source=\"microphone\", type=\"filepath\"), \n",
    "                                outputs = [output_1, output_2], \n",
    "                                title = \"Generate Images using Voice\")\n",
    "\n",
    "speech_interface.launch(debug=True)"
   ]
  },
  {
   "cell_type": "code",
   "execution_count": null,
   "id": "6202ca73",
   "metadata": {},
   "outputs": [],
   "source": []
  }
 ],
 "metadata": {
  "kernelspec": {
   "display_name": "Python 3 (ipykernel)",
   "language": "python",
   "name": "python3"
  },
  "language_info": {
   "codemirror_mode": {
    "name": "ipython",
    "version": 3
   },
   "file_extension": ".py",
   "mimetype": "text/x-python",
   "name": "python",
   "nbconvert_exporter": "python",
   "pygments_lexer": "ipython3",
   "version": "3.9.13"
  }
 },
 "nbformat": 4,
 "nbformat_minor": 5
}
